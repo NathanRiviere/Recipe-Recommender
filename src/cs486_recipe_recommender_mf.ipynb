{
  "nbformat": 4,
  "nbformat_minor": 0,
  "metadata": {
    "colab": {
      "name": "cs486-recipe-recommender-mf.ipynb",
      "provenance": []
    },
    "kernelspec": {
      "name": "python3",
      "display_name": "Python 3"
    },
    "accelerator": "GPU"
  },
  "cells": [
    {
      "cell_type": "markdown",
      "metadata": {
        "id": "2oVZvMUWLFaO"
      },
      "source": [
        "# Data preparation"
      ]
    },
    {
      "cell_type": "code",
      "metadata": {
        "id": "R5wAF3x5J3ro"
      },
      "source": [
        "import torch\n",
        "\n",
        "# Use GPU (cuda) if available\n",
        "device = torch.device(\"cuda\" if torch.cuda.is_available() else \"cpu\")"
      ],
      "execution_count": 3,
      "outputs": []
    },
    {
      "cell_type": "code",
      "metadata": {
        "id": "sZ9mUsa6K0ts"
      },
      "source": [
        "import numpy as np\n",
        "\n",
        "def get_user_rating_matrix(path='./user-rating_matrix.npy'):\n",
        "\treturn np.load(path)\n",
        "\n",
        "def get_recipe_feature_map(path='./Recipe-feature_map.npy'):\n",
        "\treturn np.load(path).T\n",
        "\n",
        "# Load the user-ratings and recipe-feature matrices\n",
        "ur = get_user_rating_matrix()\n",
        "rf = get_recipe_feature_map()"
      ],
      "execution_count": 4,
      "outputs": []
    },
    {
      "cell_type": "code",
      "metadata": {
        "id": "TxqWhpsQK3vd"
      },
      "source": [
        "# Split data into train and test sets\n",
        "def split_to_train_test(user_ratings, recipe_feature, test_percentage):\n",
        "    total_columns = user_ratings.shape[1]\n",
        "    test_column_count = round(test_percentage*total_columns)\n",
        "    ur_train = user_ratings[:, :-test_column_count]\n",
        "    ur_test = user_ratings[:, -test_column_count:]\n",
        "    rf_train = recipe_feature[:-test_column_count, :]\n",
        "    rf_test = recipe_feature[-test_column_count:, :]\n",
        "    return ur_train, ur_test, rf_train, rf_test\n",
        "\n",
        "ur_train, ur_test, rf_train, rf_test = split_to_train_test(ur, rf, .2)\n",
        "ur_train, ur_val, rf_train, rf_val = split_to_train_test(ur_train, rf_train, .2)"
      ],
      "execution_count": 5,
      "outputs": []
    },
    {
      "cell_type": "code",
      "metadata": {
        "id": "4KihLbiFK6Qm"
      },
      "source": [
        "from torch.utils.data import Dataset, DataLoader\n",
        "\n",
        "# Create RatingDataset class to help with loading data\n",
        "class RatingDataset(Dataset):\n",
        "    def __init__(self, user_ratings):\n",
        "        self.user_ratings = user_ratings\n",
        "        self.row_indices, self.col_indices = user_ratings.nonzero()\n",
        "\t\n",
        "    def __len__(self):\n",
        "        return len(self.row_indices)\n",
        "\t\n",
        "    def __getitem__(self, idx):\n",
        "        row = self.row_indices[idx]\n",
        "        col = self.col_indices[idx]\n",
        "        rating = self.user_ratings[row, col]\n",
        "        return torch.LongTensor([row]).to(device), \\\n",
        "            torch.LongTensor([col]).to(device), \\\n",
        "            torch.FloatTensor([rating]).to(device)\n",
        "\n",
        "batch_size = 1000\n",
        "train_loader = DataLoader(RatingDataset(ur_train), batch_size=batch_size, shuffle=True)\n",
        "val_loader = DataLoader(RatingDataset(ur_val), batch_size=batch_size, shuffle=True)\n",
        "test_loader = DataLoader(RatingDataset(ur_test), batch_size=batch_size, shuffle=True)"
      ],
      "execution_count": 6,
      "outputs": []
    },
    {
      "cell_type": "markdown",
      "metadata": {
        "id": "QTy6zdF8LJFW"
      },
      "source": [
        "# Model"
      ]
    },
    {
      "cell_type": "code",
      "metadata": {
        "id": "kcJTOqXYK9_t"
      },
      "source": [
        "import torch.nn\n",
        "\n",
        "class MatrixFactorization(torch.nn.Module):\n",
        "    \n",
        "    def __init__(self, n_users, n_items, n_factors=80):\n",
        "        super().__init__()\n",
        "        self.user_factors = torch.nn.Embedding(n_users, n_factors)\n",
        "        self.item_factors = torch.nn.Embedding(n_items, n_factors)\n",
        "        self.user_biases = torch.nn.Embedding(n_users, 1)\n",
        "        self.item_biases = torch.nn.Embedding(n_items,1)\n",
        "        torch.nn.init.xavier_uniform_(self.user_factors.weight)\n",
        "        torch.nn.init.xavier_uniform_(self.item_factors.weight)\n",
        "        self.user_biases.weight.data.fill_(0.)\n",
        "        self.item_biases.weight.data.fill_(0.)\n",
        "        \n",
        "    def forward(self, user, item):\n",
        "        pred = self.user_biases(user) + self.item_biases(item)\n",
        "        pred += (self.user_factors(user) * self.item_factors(item)).sum(1, keepdim=True)\n",
        "        return pred.squeeze()"
      ],
      "execution_count": 7,
      "outputs": []
    },
    {
      "cell_type": "code",
      "metadata": {
        "id": "4EfZ0BmfLLfJ"
      },
      "source": [
        "model = MatrixFactorization(1000, 40818).to(device)"
      ],
      "execution_count": 9,
      "outputs": []
    },
    {
      "cell_type": "markdown",
      "metadata": {
        "id": "8esgddPfLZrZ"
      },
      "source": [
        "# Training"
      ]
    },
    {
      "cell_type": "code",
      "metadata": {
        "id": "df7Vy8n7LAF4"
      },
      "source": [
        "import torch.optim as optim\n",
        "\n",
        "# Use MSE as the loss function\n",
        "criterion = torch.nn.MSELoss()\n",
        "\n",
        "# Use SGD to optimize the weights\n",
        "optimizer = optim.Adam(model.parameters(), lr=0.001)"
      ],
      "execution_count": 12,
      "outputs": []
    },
    {
      "cell_type": "code",
      "metadata": {
        "colab": {
          "base_uri": "https://localhost:8080/",
          "height": 584
        },
        "id": "pLy2Ct5aLhQJ",
        "outputId": "ea6e5c68-065a-43f2-8e12-02a898873671"
      },
      "source": [
        "import copy\n",
        "\n",
        "epochs = 20\n",
        "\n",
        "best_model = None\n",
        "best_mse = 1000\n",
        "train_mse = []\n",
        "val_mse = []\n",
        "\n",
        "for epoch in range(epochs):\n",
        "    train_loss_tot = 0.\n",
        "    train_ctr = 0\n",
        "    for row_batch, col_batch, rating_batch in train_loader:\n",
        "        optimizer.zero_grad()\n",
        "        \n",
        "        # Predict rating and calculate loss\n",
        "        prediction = model(row_batch.squeeze(), col_batch.squeeze())\n",
        "        loss = criterion(prediction, rating_batch.squeeze())\n",
        "        \n",
        "        # Backpropagate\n",
        "        loss.backward()\n",
        "        \n",
        "        # Update the parameters\n",
        "        optimizer.step()\n",
        "        \n",
        "        # Update loss total\n",
        "        train_loss_tot += loss.item()\n",
        "        train_ctr += 1\n",
        "    \n",
        "    val_loss_tot = 0.\n",
        "    val_ctr = 0\n",
        "    with torch.no_grad():\n",
        "        for row_batch, col_batch, rating_batch in val_loader:\n",
        "            # Predict rating and calculate loss\n",
        "            prediction = model(row_batch.squeeze(), col_batch.squeeze())\n",
        "            loss = criterion(prediction, rating_batch.squeeze())\n",
        "            \n",
        "            # Update loss total\n",
        "            val_loss_tot += loss.item()\n",
        "            val_ctr += 1\n",
        "        \n",
        "    train_mse += [train_loss_tot / train_ctr]\n",
        "    val_mse += [val_loss_tot / val_ctr]\n",
        "\n",
        "    print('[epoch:{}] Train MSE: {}, Validation MSE: {}'.format(\n",
        "        epoch,\n",
        "        train_mse[-1],\n",
        "        val_mse[-1]\n",
        "    ))\n",
        "    if val_mse[-1] < best_mse:\n",
        "        best_mse = val_mse[-1]\n",
        "        best_model = copy.deepcopy(model)\n",
        "\n",
        "plt.plot(train_mse, label='train')\n",
        "plt.plot(val_mse, label='validation')\n",
        "plt.legend()\n",
        "plt.show()\n",
        "print('Finished training!')\n",
        "print('Best validation loss: {}'.format(best_mse))\n",
        "model = best_model\n",
        "    "
      ],
      "execution_count": 14,
      "outputs": [
        {
          "output_type": "stream",
          "text": [
            "[epoch:0] Train MSE: 1.1779935757319133, Validation MSE: 4.028842613913796\n",
            "[epoch:1] Train MSE: 0.907016555760421, Validation MSE: 3.340088545192372\n",
            "[epoch:2] Train MSE: 0.7334541038555258, Validation MSE: 2.871681716225364\n",
            "[epoch:3] Train MSE: 0.6060106567308015, Validation MSE: 2.5403490283272485\n",
            "[epoch:4] Train MSE: 0.5074233830559487, Validation MSE: 2.3203364979137073\n",
            "[epoch:5] Train MSE: 0.4288037154896587, Validation MSE: 2.171895712072199\n",
            "[epoch:6] Train MSE: 0.36382949512963203, Validation MSE: 2.073736665465615\n",
            "[epoch:7] Train MSE: 0.31034909071875555, Validation MSE: 2.0075341311368073\n",
            "[epoch:8] Train MSE: 0.26631374657154083, Validation MSE: 1.9695789575576783\n",
            "[epoch:9] Train MSE: 0.22914464260433234, Validation MSE: 1.9497380711815573\n",
            "[epoch:10] Train MSE: 0.1986958534986365, Validation MSE: 1.9452612313357267\n",
            "[epoch:11] Train MSE: 0.17335258650721289, Validation MSE: 1.9419022083282471\n",
            "[epoch:12] Train MSE: 0.1522410259965588, Validation MSE: 1.9479997960003939\n",
            "[epoch:13] Train MSE: 0.13441355533751786, Validation MSE: 1.9449246991764415\n",
            "[epoch:14] Train MSE: 0.11893363932476324, Validation MSE: 1.965533633665605\n",
            "[epoch:15] Train MSE: 0.10598293582306188, Validation MSE: 1.9657945351167159\n",
            "[epoch:16] Train MSE: 0.09491224689226524, Validation MSE: 1.967818156155673\n",
            "[epoch:17] Train MSE: 0.08523608451964808, Validation MSE: 1.975587749481201\n",
            "[epoch:18] Train MSE: 0.07686354442700452, Validation MSE: 1.98392878445712\n",
            "[epoch:19] Train MSE: 0.06941614931851041, Validation MSE: 1.9830286654559048\n"
          ],
          "name": "stdout"
        },
        {
          "output_type": "error",
          "ename": "NameError",
          "evalue": "ignored",
          "traceback": [
            "\u001b[0;31m---------------------------------------------------------------------------\u001b[0m",
            "\u001b[0;31mNameError\u001b[0m                                 Traceback (most recent call last)",
            "\u001b[0;32m<ipython-input-14-cf96fefe1269>\u001b[0m in \u001b[0;36m<module>\u001b[0;34m()\u001b[0m\n\u001b[1;32m     52\u001b[0m         \u001b[0mbest_model\u001b[0m \u001b[0;34m=\u001b[0m \u001b[0mcopy\u001b[0m\u001b[0;34m.\u001b[0m\u001b[0mdeepcopy\u001b[0m\u001b[0;34m(\u001b[0m\u001b[0mmodel\u001b[0m\u001b[0;34m)\u001b[0m\u001b[0;34m\u001b[0m\u001b[0;34m\u001b[0m\u001b[0m\n\u001b[1;32m     53\u001b[0m \u001b[0;34m\u001b[0m\u001b[0m\n\u001b[0;32m---> 54\u001b[0;31m \u001b[0mplt\u001b[0m\u001b[0;34m.\u001b[0m\u001b[0mplot\u001b[0m\u001b[0;34m(\u001b[0m\u001b[0mtrain_mse\u001b[0m\u001b[0;34m,\u001b[0m \u001b[0mlabel\u001b[0m\u001b[0;34m=\u001b[0m\u001b[0;34m'train'\u001b[0m\u001b[0;34m)\u001b[0m\u001b[0;34m\u001b[0m\u001b[0;34m\u001b[0m\u001b[0m\n\u001b[0m\u001b[1;32m     55\u001b[0m \u001b[0mplt\u001b[0m\u001b[0;34m.\u001b[0m\u001b[0mplot\u001b[0m\u001b[0;34m(\u001b[0m\u001b[0mval_mse\u001b[0m\u001b[0;34m,\u001b[0m \u001b[0mlabel\u001b[0m\u001b[0;34m=\u001b[0m\u001b[0;34m'validation'\u001b[0m\u001b[0;34m)\u001b[0m\u001b[0;34m\u001b[0m\u001b[0;34m\u001b[0m\u001b[0m\n\u001b[1;32m     56\u001b[0m \u001b[0mplt\u001b[0m\u001b[0;34m.\u001b[0m\u001b[0mlegend\u001b[0m\u001b[0;34m(\u001b[0m\u001b[0;34m)\u001b[0m\u001b[0;34m\u001b[0m\u001b[0;34m\u001b[0m\u001b[0m\n",
            "\u001b[0;31mNameError\u001b[0m: name 'plt' is not defined"
          ]
        }
      ]
    },
    {
      "cell_type": "code",
      "metadata": {
        "colab": {
          "base_uri": "https://localhost:8080/",
          "height": 265
        },
        "id": "fYGGB5ifOhw1",
        "outputId": "445e435f-7995-429c-c9c7-255aab7e003c"
      },
      "source": [
        "from matplotlib import pyplot as plt\n",
        "\n",
        "plt.plot(train_mse, label='train')\n",
        "plt.plot(val_mse, label='validation')\n",
        "plt.legend()\n",
        "plt.show()"
      ],
      "execution_count": 15,
      "outputs": [
        {
          "output_type": "display_data",
          "data": {
            "image/png": "[encoded data removed]",
            "text/plain": [
              "<Figure size 432x288 with 1 Axes>"
            ]
          },
          "metadata": {
            "tags": [],
            "needs_background": "light"
          }
        }
      ]
    },
    {
      "cell_type": "code",
      "metadata": {
        "colab": {
          "base_uri": "https://localhost:8080/"
        },
        "id": "8mSKgn0XuJS0",
        "outputId": "e24bea70-281b-4cf8-cb8e-b92e60473582"
      },
      "source": [
        "from math import sqrt\n",
        "\n",
        "test_loss_tot = 0.\n",
        "test_ctr = 0\n",
        "with torch.no_grad():\n",
        "    for row_batch, col_batch, rating_batch in test_loader:\n",
        "        # Predict rating and calculate loss\n",
        "        prediction = model(row_batch.squeeze(), col_batch.squeeze())\n",
        "        loss = criterion(prediction, rating_batch.squeeze())\n",
        "        \n",
        "        # Update loss total\n",
        "        test_loss_tot += loss.item()\n",
        "        test_ctr += 1\n",
        "\n",
        "test_rmse = sqrt(test_loss_tot / test_ctr)\n",
        "print('Test RMSE: %.5f' % test_rmse)"
      ],
      "execution_count": 17,
      "outputs": [
        {
          "output_type": "stream",
          "text": [
            "Test RMSE: 1.41586\n"
          ],
          "name": "stdout"
        }
      ]
    }
  ]
}