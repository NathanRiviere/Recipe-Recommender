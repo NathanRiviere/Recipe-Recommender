{
  "nbformat": 4,
  "nbformat_minor": 0,
  "metadata": {
    "colab": {
      "name": "cs486-recipe-recommender-ctrmf.ipynb",
      "provenance": []
    },
    "kernelspec": {
      "name": "python3",
      "display_name": "Python 3"
    },
    "accelerator": "GPU"
  },
  "cells": [
    {
      "cell_type": "code",
      "metadata": {
        "id": "Xwhn3_HCaabR"
      },
      "source": [
        "#!7z x Recipe-feature_map.7z\n",
        "#!7z x user-rating_matrix.7z"
      ],
      "execution_count": 1,
      "outputs": []
    },
    {
      "cell_type": "markdown",
      "metadata": {
        "id": "pqwvO0sME8nN"
      },
      "source": [
        "This notebook contains the implementation of the CTRMF recipe recommendation model."
      ]
    },
    {
      "cell_type": "code",
      "metadata": {
        "id": "t0N9tAxe5KGR"
      },
      "source": [
        "import torch\n",
        "\n",
        "# Use GPU (cuda) if available\n",
        "device = torch.device(\"cuda\" if torch.cuda.is_available() else \"cpu\")"
      ],
      "execution_count": 2,
      "outputs": []
    },
    {
      "cell_type": "markdown",
      "metadata": {
        "id": "AeDgivY95dGo"
      },
      "source": [
        "# Data Preparation\n",
        "\n",
        "We have saved our data using numpy's save feature, and load it into this notebook for training. Our data consists of a recipe-feature matrix, where the rows correspond to recipes and the columns correspond to recipe features. Features include ingredients, cooking style, and other recipe metadata. We also have a user-rating matrix, which stores the ratings data."
      ]
    },
    {
      "cell_type": "code",
      "metadata": {
        "id": "ZDDTp75z5ZgU"
      },
      "source": [
        "import numpy as np\n",
        "\n",
        "def get_user_rating_matrix(path='./user-rating_matrix.npy'):\n",
        "\treturn np.load(path)\n",
        "\n",
        "def get_recipe_feature_map(path='./Recipe-feature_map.npy'):\n",
        "\treturn np.load(path).T\n",
        "\n",
        "# Load the user-ratings and recipe-feature matrices\n",
        "ur = get_user_rating_matrix()\n",
        "rf = get_recipe_feature_map()"
      ],
      "execution_count": 3,
      "outputs": []
    },
    {
      "cell_type": "code",
      "metadata": {
        "id": "TuhOxknc64ck"
      },
      "source": [
        "# Split data into train and test sets\n",
        "def split_to_train_test(user_ratings, recipe_feature, test_percentage):\n",
        "    total_columns = user_ratings.shape[1]\n",
        "    test_column_count = round(test_percentage*total_columns)\n",
        "    ur_train = user_ratings[:, :-test_column_count]\n",
        "    ur_test = user_ratings[:, -test_column_count:]\n",
        "    rf_train = recipe_feature[:-test_column_count, :]\n",
        "    rf_test = recipe_feature[-test_column_count:, :]\n",
        "    return ur_train, ur_test, rf_train, rf_test\n",
        "\n",
        "ur_train, ur_test, rf_train, rf_test = split_to_train_test(ur, rf, .2)\n",
        "ur_train, ur_val, rf_train, rf_val = split_to_train_test(ur_train, rf_train, .2)"
      ],
      "execution_count": 4,
      "outputs": []
    },
    {
      "cell_type": "code",
      "metadata": {
        "id": "aa63D8Ef7L8W"
      },
      "source": [
        "from torch.utils.data import Dataset, DataLoader\n",
        "\n",
        "# Create RatingDataset class to help with loading data\n",
        "class RatingDataset(Dataset):\n",
        "    def __init__(self, user_ratings):\n",
        "        self.user_ratings = user_ratings\n",
        "        self.row_indices, self.col_indices = user_ratings.nonzero()\n",
        "\t\n",
        "    def __len__(self):\n",
        "        return len(self.row_indices)\n",
        "\t\n",
        "    def __getitem__(self, idx):\n",
        "        row = self.row_indices[idx]\n",
        "        col = self.col_indices[idx]\n",
        "        rating = self.user_ratings[row, col]\n",
        "        return torch.LongTensor([row]).to(device), \\\n",
        "            torch.LongTensor([col]).to(device), \\\n",
        "            torch.FloatTensor([rating]).to(device)\n",
        "\n",
        "batch_size = 1000\n",
        "train_loader = DataLoader(RatingDataset(ur_train), batch_size=batch_size, shuffle=True)\n",
        "val_loader = DataLoader(RatingDataset(ur_val), batch_size=batch_size, shuffle=True)\n",
        "test_loader = DataLoader(RatingDataset(ur_test), batch_size=batch_size, shuffle=True)"
      ],
      "execution_count": 5,
      "outputs": []
    },
    {
      "cell_type": "markdown",
      "metadata": {
        "id": "6L8zdOUi7olw"
      },
      "source": [
        "# Model\n",
        "\n",
        "Here we define the model. The implementation is similar to standard Matrix Factorization (MF) as it involves factorizing the user-rating matrix into several matrices. We use pytorch's `torch.nn.Embedding` layer to represent each matrix, as essentially its weights are in the form of a 2D tensor which we can use for our computations."
      ]
    },
    {
      "cell_type": "code",
      "metadata": {
        "id": "Iqrdv4A58IGV"
      },
      "source": [
        "import torch\n",
        "import torch.nn as nn\n",
        "\n",
        "class CTRMF(nn.Module):\n",
        "    def __init__(self,\n",
        "        ratings_data,\n",
        "        recipe_feature,\n",
        "        n_hidden=80,\n",
        "        reg_term=0.01,\n",
        "        device=None,\n",
        "        verbose=False):\n",
        "        \"\"\"\n",
        "        ratings_data : ((n_users, n_recipes) 2D array)\n",
        "            Collection of recipe ratings for each user.\n",
        "        recipe_feature : ((n_recipes, n_features) 2D array)\n",
        "            Recipe-feature matrix, where each element is 1 if the recipe\n",
        "            contains the corresponding feature, 0 otherwise.\n",
        "        n_hidden : (Integer)\n",
        "            Number of latent dimensions\n",
        "        reg_term : (Double)\n",
        "            Regularization term\n",
        "        verbose : (Boolean)\n",
        "            Prints helpful training progress messages if True\n",
        "        \"\"\"\n",
        "        super(CTRMF, self).__init__()\n",
        "        \n",
        "        self.ratings_data = ratings_data\n",
        "        self.recipe_feature = torch.FloatTensor(recipe_feature).to(device)\n",
        "        self.n_hidden = n_hidden\n",
        "        self.n_users, self.n_recipes = ratings_data.shape\n",
        "        self.n_features = recipe_feature.shape[1]\n",
        "        self.reg_term = reg_term\n",
        "        self.verbose = verbose\n",
        "        \n",
        "        # Set learned matrices as Embeddings\n",
        "        self.user_hidden = nn.Embedding(\n",
        "            self.n_users,\n",
        "            self.n_hidden\n",
        "        ).to(device)\n",
        "        self.hidden_feature = nn.Embedding(\n",
        "            self.n_hidden,\n",
        "            self.n_features\n",
        "        ).to(device)\n",
        "        self.user_biases = nn.Embedding(self.n_users, 1).to(device)\n",
        "        self.recipe_biases = nn.Embedding(self.n_recipes, 1).to(device)\n",
        "        \n",
        "        # Initialize learned matrices\n",
        "        nn.init.xavier_uniform_(self.user_hidden.weight)\n",
        "        nn.init.xavier_uniform_(self.hidden_feature.weight)\n",
        "        self.user_biases.weight.data.fill_(0.)\n",
        "        self.recipe_biases.weight.data.fill_(0.)\n",
        "        \n",
        "        # Calculate the mean of the ratings data\n",
        "        self.global_bias = torch.FloatTensor([np.mean(\n",
        "            self.ratings_data[np.where(self.ratings_data != 0)]\n",
        "        )]).to(device)\n",
        "        \n",
        "        if self.verbose:\n",
        "            print(\"Initializing ctrmf\")\n",
        "            print(\"==================\")\n",
        "            print(f\"n_users: {self.n_users}\")\n",
        "            print(f\"n_recipes: {self.n_recipes}\")\n",
        "            print(f\"recipe_feature.shape: {recipe_feature.shape}\")\n",
        "            print(f\"n_features: {self.n_features}\")\n",
        "            print(f\"n_hidden: {self.n_hidden}\")\n",
        "            print(f\"user_hidden.shape: ({self.user_hidden.num_embeddings},{self.user_hidden.embedding_dim})\")\n",
        "            print(f\"hidden_feature.shape: {self.hidden_feature.weight.shape}\")\n",
        "            print('\\n')\n",
        "\n",
        "    def forward(self, user, recipe):\n",
        "        pred = torch.matmul(self.user_hidden(user), self.hidden_feature.weight)\n",
        "        pred = torch.matmul(pred, self.recipe_feature[recipe].T)\n",
        "        pred += self.user_biases(user) + self.recipe_biases(recipe) + self.global_bias\n",
        "        return pred"
      ],
      "execution_count": 6,
      "outputs": []
    },
    {
      "cell_type": "code",
      "metadata": {
        "id": "t_57LjTcDJb2",
        "colab": {
          "base_uri": "https://localhost:8080/"
        },
        "outputId": "08a33c85-7f85-4f97-ab56-6ca6c3f3887a"
      },
      "source": [
        "model = CTRMF(\n",
        "    ur,\n",
        "    rf,\n",
        "    device=device,\n",
        "    verbose=True\n",
        ").to(device)"
      ],
      "execution_count": 7,
      "outputs": [
        {
          "output_type": "stream",
          "text": [
            "Initializing ctrmf\n",
            "==================\n",
            "n_users: 1000\n",
            "n_recipes: 40818\n",
            "recipe_feature.shape: (40818, 773)\n",
            "n_features: 773\n",
            "n_hidden: 80\n",
            "user_hidden.shape: (1000,80)\n",
            "hidden_feature.shape: torch.Size([80, 773])\n",
            "\n",
            "\n"
          ],
          "name": "stdout"
        }
      ]
    },
    {
      "cell_type": "markdown",
      "metadata": {
        "id": "6jFFZAkB8Qub"
      },
      "source": [
        "# Training\n",
        "\n",
        "Here we perform our training, in standard PyTorch style."
      ]
    },
    {
      "cell_type": "code",
      "metadata": {
        "id": "8aVxJIxq8kV8"
      },
      "source": [
        "import torch.optim as optim\n",
        "\n",
        "# Use MSE as the loss function\n",
        "criterion = nn.MSELoss()\n",
        "\n",
        "# Use SGD to optimize the weights\n",
        "optimizer = optim.Adam(model.parameters(), lr=1e-3)"
      ],
      "execution_count": 8,
      "outputs": []
    },
    {
      "cell_type": "code",
      "metadata": {
        "colab": {
          "base_uri": "https://localhost:8080/",
          "height": 473
        },
        "id": "sFeQ8MeC84d0",
        "outputId": "19b00eec-1bf2-4ba8-cfcc-133ba8d82830"
      },
      "source": [
        "import copy\n",
        "from matplotlib import pyplot as plt\n",
        "\n",
        "epochs = 10\n",
        "\n",
        "best_model = None\n",
        "best_mse = 1000\n",
        "train_mse = []\n",
        "val_mse = []\n",
        "\n",
        "for epoch in range(epochs):\n",
        "    train_loss_tot = 0.\n",
        "    train_ctr = 0\n",
        "    for row_batch, col_batch, rating_batch in train_loader:\n",
        "        optimizer.zero_grad()\n",
        "        \n",
        "        # Predict rating and calculate loss\n",
        "        prediction = model(row_batch.squeeze(), col_batch.squeeze())\n",
        "        prediction = torch.diagonal(prediction)\n",
        "        loss = criterion(prediction, rating_batch.squeeze())\n",
        "        \n",
        "        # Backpropagate\n",
        "        loss.backward()\n",
        "        \n",
        "        # Update the parameters\n",
        "        optimizer.step()\n",
        "        \n",
        "        # Update loss total\n",
        "        train_loss_tot += loss.item()\n",
        "        train_ctr += 1\n",
        "    \n",
        "    val_loss_tot = 0.\n",
        "    val_ctr = 0\n",
        "    with torch.no_grad():\n",
        "        for row_batch, col_batch, rating_batch in val_loader:\n",
        "            # Predict rating and calculate loss\n",
        "            prediction = model(row_batch.squeeze(), col_batch.squeeze())\n",
        "            prediction = torch.diagonal(prediction)\n",
        "            loss = criterion(prediction, rating_batch.squeeze())\n",
        "            \n",
        "            # Update loss total\n",
        "            val_loss_tot += loss.item()\n",
        "            val_ctr += 1\n",
        "        \n",
        "    train_mse += [train_loss_tot / train_ctr]\n",
        "    val_mse += [val_loss_tot / val_ctr]\n",
        "\n",
        "    print('[epoch:{}] Train MSE: {}, Validation MSE: {}'.format(\n",
        "        epoch,\n",
        "        train_mse[-1],\n",
        "        val_mse[-1]\n",
        "    ))\n",
        "    if val_mse[-1] < best_mse:\n",
        "        best_mse = val_mse[-1]\n",
        "        best_model = copy.deepcopy(model)\n",
        "\n",
        "plt.plot(train_mse, label='train')\n",
        "plt.plot(val_mse, label='validation')\n",
        "plt.legend()\n",
        "plt.show()\n",
        "print('Finished training!')\n",
        "print('Best validation loss: {}'.format(best_mse))\n",
        "model = best_model\n",
        "    "
      ],
      "execution_count": 9,
      "outputs": [
        {
          "output_type": "stream",
          "text": [
            "[epoch:0] Train MSE: 0.6340022662691042, Validation MSE: 0.6059945767576044\n",
            "[epoch:1] Train MSE: 0.5819040753093421, Validation MSE: 0.6108713193373246\n",
            "[epoch:2] Train MSE: 0.5479124397331593, Validation MSE: 0.6218348362229087\n",
            "[epoch:3] Train MSE: 0.5148029860620406, Validation MSE: 0.6365656354210594\n",
            "[epoch:4] Train MSE: 0.4822184196582027, Validation MSE: 0.6538974035869946\n",
            "[epoch:5] Train MSE: 0.4513000384265301, Validation MSE: 0.6739446108991449\n",
            "[epoch:6] Train MSE: 0.42280670854390834, Validation MSE: 0.6934847235679626\n",
            "[epoch:7] Train MSE: 0.3971717375166276, Validation MSE: 0.715198528766632\n",
            "[epoch:8] Train MSE: 0.3743409141898155, Validation MSE: 0.7380870428952304\n",
            "[epoch:9] Train MSE: 0.35416333990938526, Validation MSE: 0.7588088674978777\n"
          ],
          "name": "stdout"
        },
        {
          "output_type": "display_data",
          "data": {
            "image/png": "[encoded data removed]",
            "text/plain": [
              "<Figure size 432x288 with 1 Axes>"
            ]
          },
          "metadata": {
            "tags": [],
            "needs_background": "light"
          }
        },
        {
          "output_type": "stream",
          "text": [
            "Finished training!\n",
            "Best validation loss: 0.6059945767576044\n"
          ],
          "name": "stdout"
        }
      ]
    },
    {
      "cell_type": "code",
      "metadata": {
        "colab": {
          "base_uri": "https://localhost:8080/"
        },
        "id": "BWo4ym0Sa-Vz",
        "outputId": "fa7b4e8d-a718-496b-81ac-efc361e4ec0a"
      },
      "source": [
        "from math import sqrt\n",
        "\n",
        "test_loss_tot = 0.\n",
        "test_ctr = 0\n",
        "with torch.no_grad():\n",
        "    for row_batch, col_batch, rating_batch in test_loader:\n",
        "        # Predict rating and calculate loss\n",
        "        prediction = model(row_batch.squeeze(), col_batch.squeeze())\n",
        "        prediction = torch.diagonal(prediction)\n",
        "        loss = criterion(prediction, rating_batch.squeeze())\n",
        "        \n",
        "        # Update loss total\n",
        "        test_loss_tot += loss.item()\n",
        "        test_ctr += 1\n",
        "\n",
        "test_rmse = sqrt(test_loss_tot / test_ctr)\n",
        "print('Test RMSE: %.5f' % test_rmse)"
      ],
      "execution_count": 11,
      "outputs": [
        {
          "output_type": "stream",
          "text": [
            "Test RMSE: 0.81445\n"
          ],
          "name": "stdout"
        }
      ]
    }
  ]
}